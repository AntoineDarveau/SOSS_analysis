{
 "cells": [
  {
   "cell_type": "markdown",
   "metadata": {},
   "source": [
    "# Tikhonov extraction\n",
    "### Reminder:\n",
    "- The extraction method (called the engine) tries to simultaneously fit the flux at both orders by solving the system of equation \n",
    "\\begin{equation}\n",
    "    \\left(\\frac{\\textbf{D}}{\\mathbf{\\sigma}}\\right)_{1 \\times \\rm N_i}     \\left(\\frac{\\textbf{B}}{\\mathbf{\\sigma}}\\right)_{\\rm N_i \\times N_k}\n",
    "    = \\left(\\frac{\\textbf{B}}{\\mathbf{\\sigma}}\\right)_{\\rm N_k \\times N_i}^T\n",
    "      \\left(\\frac{\\textbf{B}}{\\mathbf{\\sigma}}\\right)_{\\rm N_i \\times N_k}\n",
    "      \\mathbf{f}_{\\rm N_k}\n",
    "\\end{equation}\n",
    "where $\\textbf{D}$ and $\\sigma$ are respectilvely the intensity measurement and the error estimate at each pixel. $\\textbf{B}$ is the matrix that reprensents the model of each pixels given by $\\textbf{B}_{N_i \\times N_k} \\textbf{f}_{N_k} = \\textbf{B} \\cdot \\textbf{f}_{k}$. Here, $\\textbf{f}_{k}$ is the non convolved flux projected on the specified wavelength grid and that is what we want to determine. We therefore have to solve a system of the form $\\textbf{Ax}=\\textbf{b}$\n",
    "\n",
    "### Why Tikhonov?\n",
    "- To be able to fit precisely the the detector's pixels, we need to oversample $\\textbf{f}_{k}$.\n",
    "- However, the more we oversample, the more the solution becomes degenerate. This will results in an ill-conditionned problem, causing big instabilities in the solution, ultimately leading to a singular matrix (unsolvable)\n",
    "- Tikhonov regularisation enables to lift this degeneracy by adding an additionnal constraint on the solution.\n",
    "\n",
    "### How? (See [Wikipedia](https://en.wikipedia.org/wiki/Tikhonov_regularization) for more precise informations)\n",
    "- Solving the linear system $\\textbf{Ax}=\\textbf{b}$ can be done by minimizing the norm of the vector $\\|\\textbf{Ax}-\\textbf{b}\\|^2_2$ when the solution exists. Tikhonov regularisation proposes to add the term $\\|\\alpha \\Gamma \\textbf{x}\\|^2_2$, where $\\alpha$ is a simply a scale factor (scalar) and $\\Gamma$ is the Tikhonov matrix. Hence, the equation to minimize is given by $\\|\\textbf{Ax}-\\textbf{b}\\|^2_2 + \\|\\alpha \\Gamma \\textbf{x}\\|^2_2$, which can be re-write as \n",
    "\\begin{equation}\n",
    "(\\textbf{A}^\\mathrm{T}\\textbf{A}+\\alpha^2\\Gamma^\\mathrm{T}\\Gamma)\\,\\textbf{x}=\\textbf{A}^\\mathrm{T}\\textbf{b}\n",
    "\\end{equation}\n",
    "- The Tikhonov matrix depends on the desirable proporties of the solution and there are many different ways to define it. In this case, we propose to pull the solution towards a solution with a resolution n times higher than that of the most precise order (order 2 in this case). In other words, we force the solution to be closed to the convolved solution. Mathematically, if the convolved flux at the required resolution is given by $\\textbf{C}_R\\cdot \\textbf{f}_{k}$ where $\\textbf{C}_R$ is the convolution matrix at resolution $R$, then the tikhonov matrix is given by \n",
    "\\begin{equation}\n",
    "\\Gamma = \\textbf{C}_R - \\textbf{I},\n",
    "\\end{equation}\n",
    "$\\textbf{I}$ being the identity matrix. Therefore, $\\Gamma \\cdot \\textbf{f}_{k} = \\textbf{C}_R \\cdot \\textbf{f}_{k} - \\textbf{f}_{k}$"
   ]
  },
  {
   "cell_type": "markdown",
   "metadata": {},
   "source": []
  }
 ],
 "metadata": {
  "kernelspec": {
   "display_name": "Python 3",
   "language": "python",
   "name": "python3"
  },
  "language_info": {
   "codemirror_mode": {
    "name": "ipython",
    "version": 3
   },
   "file_extension": ".py",
   "mimetype": "text/x-python",
   "name": "python",
   "nbconvert_exporter": "python",
   "pygments_lexer": "ipython3",
   "version": "3.7.7"
  }
 },
 "nbformat": 4,
 "nbformat_minor": 4
}
